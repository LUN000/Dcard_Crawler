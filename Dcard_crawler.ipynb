{
 "cells": [
  {
   "cell_type": "code",
   "execution_count": null,
   "metadata": {},
   "outputs": [],
   "source": [
    "import requests\n",
    "from bs4 import BeautifulSoup\n",
    "import pandas as pd \n",
    "import json"
   ]
  },
  {
   "cell_type": "markdown",
   "metadata": {},
   "source": [
    "## 下載Dacard文章資訊\n",
    "下載至dcard_{board}.csv"
   ]
  },
  {
   "cell_type": "code",
   "execution_count": null,
   "metadata": {},
   "outputs": [],
   "source": [
    "\"\"\"\n",
    "熱門文章\n",
    "\"\"\"\n",
    "board = input(\"輸入看板名稱\")\n",
    "popular = input(\"是否要熱門文章(true/false)\")\n",
    "if popular == 'true':\n",
    "    sort = \"熱門\" \n",
    "else:\n",
    "    sort = '最新'\n",
    "n = int(input(\"取幾頁\"))\n",
    "\n",
    "api = f'https://www.dcard.tw/service/api/v2/forums/{board}/posts?popular={popular}&limit=100'\n",
    "title, comment_num, like_num, gender, identity = [],[],[],[],[]\n",
    "excerpt, creatdate, updatedate =[],[],[]\n",
    "\n",
    "for i in range(n):\n",
    "    request = requests.get(api)\n",
    "    datas = json.loads(request.text)\n",
    "    for data in datas:\n",
    "        title.append(data['title'])\n",
    "        excerpt.append(data['excerpt'])\n",
    "        comment_num.append(data['commentCount'])\n",
    "        like_num.append(data['likeCount'])\n",
    "        gender.append(data['gender'])\n",
    "        identity.append(data['id'])\n",
    "        creatdate.append(data['createdAt'])\n",
    "        updatedate.append(data['updatedAt'])\n",
    "        dataset = {\n",
    "            '標題':title,'摘要':excerpt,'愛心數':like_num,'留言數':comment_num,\n",
    "            '性別':gender,'id' : identity,'發文日':creatdate,'更新日':updatedate\n",
    "                  }\n",
    "        last_id = data['id']\n",
    "        api = f'https://www.dcard.tw/service/api/v2/forums/{board}/posts?popular={popular}&limit=100&before={last_id}'\n",
    "\n",
    "dataset = pd.DataFrame(dataset)\n",
    "dataset.to_csv(f'Dcard_{board}_{sort}.csv',encoding='utf-8-sig')\n",
    "print('完成!')"
   ]
  }
 ],
 "metadata": {
  "kernelspec": {
   "display_name": "Python 3",
   "language": "python",
   "name": "python3"
  },
  "language_info": {
   "codemirror_mode": {
    "name": "ipython",
    "version": 3
   },
   "file_extension": ".py",
   "mimetype": "text/x-python",
   "name": "python",
   "nbconvert_exporter": "python",
   "pygments_lexer": "ipython3",
   "version": "3.8.5"
  }
 },
 "nbformat": 4,
 "nbformat_minor": 4
}
