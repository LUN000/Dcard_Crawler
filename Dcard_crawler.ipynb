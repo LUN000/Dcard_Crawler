{
 "cells": [
  {
   "cell_type": "code",
   "execution_count": null,
   "metadata": {},
   "outputs": [],
   "source": [
    "import requests\n",
    "from bs4 import BeautifulSoup\n",
    "import pandas as pd \n",
    "import json"
   ]
  },
  {
   "cell_type": "markdown",
   "metadata": {},
   "source": [
    "## 下載Dacard文章資訊\n",
    "下載至dcard_{board}.csv"
   ]
  },
  {
   "cell_type": "code",
   "execution_count": null,
   "metadata": {},
   "outputs": [],
   "source": [
    
"""
輸入參數
"""
board = input("輸入看板名稱")
popular = input("是否要熱門文章(true/false)")
if popular == 'true':
    sort = "熱門" 
else:
    sort = '最新'
n = int(input("取幾頁"))

"""
url
"""
api_board = f'https://www.dcard.tw/service/api/v2/forums/{board}/posts?popular={popular}&limit=100'
api_all = f'https://www.dcard.tw/service/api/v2/posts?popular={popular}&limit=100'
api = api_all if board=='all' else api_board
headers = {
    "user-agent":"Mozilla/5.0 (Windows NT 10.0; Win64; x64) AppleWebKit/537.36 (KHTML, like Gecko) Chrome/95.0.4638.69 Safari/537.36 Edg/95.0.1020.44"
}

title, comment_num, like_num, gender, identity = [],[],[],[],[]
excerpt, creatdate, updatedate =[],[],[]

for i in range(n):
    request = requests.get(api,headers = headers)
    datas = json.loads(request.text) 
    for data in datas:
        title.append(data['title'])
        excerpt.append(data['excerpt'])
        comment_num.append(data['commentCount'])
        like_num.append(data['likeCount'])
        gender.append(data['gender'])
        identity.append(data['id'])
        creatdate.append(data['createdAt'])
        updatedate.append(data['updatedAt'])
        dataset = {
            '標題':title,'摘要':excerpt,'愛心數':like_num,'留言數':comment_num,
            '性別':gender,'id' : identity,'發文日':creatdate,'更新日':updatedate
                  }
        last_id = data['id']
    api = api_all if board=='all' else api_board
    api = api+f"&before={last_id}"
dataset = pd.DataFrame(dataset)
dataset.to_csv(f'Dcard_{board}_{sort}.csv',encoding='utf-8-sig')
print('完成!')
   ]
  }
 ],
 "metadata": {
  "kernelspec": {
   "display_name": "Python 3",
   "language": "python",
   "name": "python3"
  },
  "language_info": {
   "codemirror_mode": {
    "name": "ipython",
    "version": 3
   },
   "file_extension": ".py",
   "mimetype": "text/x-python",
   "name": "python",
   "nbconvert_exporter": "python",
   "pygments_lexer": "ipython3",
   "version": "3.8.5"
  }
 },
 "nbformat": 4,
 "nbformat_minor": 4
}
