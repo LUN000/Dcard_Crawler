{
 "cells": [
  {
   "cell_type": "code",
   "execution_count": null,
   "id": "forced-proposal",
   "metadata": {},
   "outputs": [],
   "source": [
    "import requests\n",
    "from bs4 import BeautifulSoup\n",
    "import pandas as pd \n",
    "import json\n"
   ]
  },
  {
   "cell_type": "code",
   "execution_count": null,
   "id": "cultural-support",
   "metadata": {},
   "outputs": [],
   "source": [
    "\n",
    "\"\"\"\n",
    "輸入參數\n",
    "\"\"\"\n",
    "board = input(\"輸入看板名稱\")\n",
    "popular = input(\"是否要熱門文章(true/false)\")\n",
    "sort = \"熱門\" if popular == 'true' else '最新'\n",
    "n = int(input(\"取幾頁\"))\n",
    "\n",
    "\"\"\"\n",
    "url\n",
    "\"\"\"\n",
    "api_board = f'https://www.dcard.tw/service/api/v2/forums/{board}/posts?popular={popular}&limit=100'\n",
    "api_all = f'https://www.dcard.tw/service/api/v2/posts?popular={popular}&limit=100'\n",
    "api = api_all if board=='all' else api_board\n",
    "headers = {\n",
    "    \"user-agent\":\"Mozilla/5.0 (Windows NT 10.0; Win64; x64) AppleWebKit/537.36 (KHTML, like Gecko) Chrome/95.0.4638.69 Safari/537.36 Edg/95.0.1020.44\"\n",
    "}\n",
    "\n",
    "title, comment_num, like_num, gender, identity = [],[],[],[],[]\n",
    "excerpt, creatdate, updatedate =[],[],[]\n",
    "\n",
    "for i in range(n):\n",
    "    request = requests.get(api,headers = headers)\n",
    "    datas = json.loads(request.text) \n",
    "    for data in datas:\n",
    "        title.append(data['title'])\n",
    "        excerpt.append(data['excerpt'])\n",
    "        comment_num.append(data['commentCount'])\n",
    "        like_num.append(data['likeCount'])\n",
    "        gender.append(data['gender'])\n",
    "        identity.append(data['id'])\n",
    "        creatdate.append(data['createdAt'])\n",
    "        updatedate.append(data['updatedAt'])\n",
    "        dataset = {\n",
    "            '標題':title,'摘要':excerpt,'愛心數':like_num,'留言數':comment_num,\n",
    "            '性別':gender,'id' : identity,'發文日':creatdate,'更新日':updatedate\n",
    "                  }\n",
    "        last_id = data['id']\n",
    "    api = api_all if board=='all' else api_board\n",
    "    api = api+f\"&before={last_id}\"\n",
    "dataset = pd.DataFrame(dataset)\n",
    "dataset.to_csv(f'Dcard_{board}_{sort}.csv',encoding='utf-8-sig')\n",
    "print('完成!')"
   ]
  }
 ],
 "metadata": {
  "kernelspec": {
   "display_name": "Python 3",
   "language": "python",
   "name": "python3"
  },
  "language_info": {
   "codemirror_mode": {
    "name": "ipython",
    "version": 3
   },
   "file_extension": ".py",
   "mimetype": "text/x-python",
   "name": "python",
   "nbconvert_exporter": "python",
   "pygments_lexer": "ipython3",
   "version": "3.7.7"
  }
 },
 "nbformat": 4,
 "nbformat_minor": 5
}
